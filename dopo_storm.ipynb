{
 "cells": [
  {
   "cell_type": "code",
   "execution_count": null,
   "metadata": {},
   "outputs": [],
   "source": [
    "# third party libs\n",
    "import pandas as pd\n",
    "import numpy as np\n",
    "import requests\n",
    "import json\n",
    "import os"
   ]
  },
  {
   "cell_type": "code",
   "execution_count": null,
   "metadata": {},
   "outputs": [],
   "source": [
    "from dotenv import load_dotenv"
   ]
  },
  {
   "cell_type": "markdown",
   "metadata": {},
   "source": [
    "| Brainstorm notebook |\n",
    "|-|"
   ]
  },
  {
   "cell_type": "markdown",
   "metadata": {},
   "source": [
    "| X.com |\n",
    "|-|\n",
    "\n",
    "created twitter account ServiceLater (@service_dopo) successfully.\n",
    "plan is to start developing a backlog of tweets for servicenow stuff, maybe other stealth stuff not sure.\n",
    "either way this is a Silence Dogood situation, a stealth op. for however long.\n",
    "get that account verfified. get a company CC. register LLC.\n",
    "\n",
    "tweets & mini servicenow demos\n",
    "1-python svg script, labelling of instances. need to say why it is useful and valuable. be brief. simple accopanying documentation. heavy citations and credit where credit is due.\n",
    "1a-also see about the setting to remove whatever that homepage toure shit is.\n",
    "1b-have to get that code working with requirements.txt. have to test deploying on another computer as a random user from github.\n",
    "1c-slow the pace down you don't have to post all the shit at the same time, and can update the doc whenever. in fact better to link to readme.\n",
    "1d-you're going to have to register the blue checkmark\n",
    "1e-use it as a game, how many followers can you get\n",
    "2-\n",
    "3-\n",
    "4"
   ]
  },
  {
   "cell_type": "markdown",
   "metadata": {},
   "source": [
    "| ServiceNow Integrations / Custom Integrations |\n",
    "|-|"
   ]
  },
  {
   "cell_type": "code",
   "execution_count": null,
   "metadata": {},
   "outputs": [],
   "source": []
  },
  {
   "cell_type": "code",
   "execution_count": null,
   "metadata": {},
   "outputs": [],
   "source": []
  },
  {
   "cell_type": "markdown",
   "metadata": {},
   "source": [
    "| DEMO Data Generator |\n",
    "|-|\n",
    "| system data |\n",
    "\n",
    "i.e.,\n",
    "events, kb / kb article"
   ]
  },
  {
   "cell_type": "code",
   "execution_count": null,
   "metadata": {},
   "outputs": [],
   "source": [
    "#### servicenow rest api url construction\n",
    "sn_table = 'em_event'\n",
    "instance = os.getenv('pdi_instance')\n",
    "user = os.getenv('pdi_un')\n",
    "pwd = os.getenv('pdi_pw')\n",
    "instance_api_url = f'https://{instance}.service-now.com/api/now/table/{sn_table}' \n",
    "\n",
    "# headers for the rest api\n",
    "headers = {\"Content-Type\":\"application/json\",\"Accept\":\"application/json\"}\n",
    "\n",
    "# do the rest api call\n",
    "response = requests.post(instance_api_url, auth=(user, pwd), headers=headers ,data=\"{\\\"classification\\\":\\\"Security\\\",\\\"source\\\":\\\"UATU\\\",\\\"severity\\\":\\\"Minor\\\",\\\"node\\\":\\\"OWA-SD-01\\\",\\\"description\\\":\\\"This is a test security event\\\",\\\"additional_info\\\":\\\"by sudz from rest api explorer\\\"}\")\n",
    "\n",
    "# Check for HTTP codes other than 200\n",
    "if response.status_code != 200: \n",
    "    print('Status:', response.status_code, 'Headers:', response.headers, 'Error Response:',response.json())\n",
    "    exit()\n",
    "\n",
    "# Decode the JSON response into a dictionary and use the data\n",
    "data = response.json()\n",
    "print(data)"
   ]
  },
  {
   "cell_type": "markdown",
   "metadata": {},
   "source": [
    "| DEMO Data Generator |\n",
    "|-|\n",
    "| user data |\n",
    "\n",
    "i.e., sys_user, sys_user_group, automation with roles? \n"
   ]
  },
  {
   "cell_type": "code",
   "execution_count": null,
   "metadata": {},
   "outputs": [],
   "source": []
  },
  {
   "cell_type": "code",
   "execution_count": null,
   "metadata": {},
   "outputs": [],
   "source": []
  },
  {
   "cell_type": "markdown",
   "metadata": {},
   "source": [
    "| Data extraction and governance |\n",
    "|-|\n",
    "| GETs |"
   ]
  },
  {
   "cell_type": "code",
   "execution_count": null,
   "metadata": {},
   "outputs": [],
   "source": []
  }
 ],
 "metadata": {
  "kernelspec": {
   "display_name": "dopo_venv",
   "language": "python",
   "name": "python3"
  },
  "language_info": {
   "codemirror_mode": {
    "name": "ipython",
    "version": 3
   },
   "file_extension": ".py",
   "mimetype": "text/x-python",
   "name": "python",
   "nbconvert_exporter": "python",
   "pygments_lexer": "ipython3",
   "version": "3.11.1"
  }
 },
 "nbformat": 4,
 "nbformat_minor": 2
}
