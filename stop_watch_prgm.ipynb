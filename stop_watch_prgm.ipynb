{
 "cells": [
  {
   "cell_type": "code",
   "execution_count": 1,
   "metadata": {},
   "outputs": [],
   "source": [
    "import time\n",
    "from IPython.display import display, clear_output\n",
    "import threading\n"
   ]
  },
  {
   "cell_type": "code",
   "execution_count": 6,
   "metadata": {},
   "outputs": [],
   "source": [
    "class Stopwatch:\n",
    "    def __init__(self):\n",
    "        self.start_time = None\n",
    "        self.elapsed_time = 0\n",
    "        self.running = False\n",
    "        self._timer_thread = None\n",
    "\n",
    "    def _update_display(self):\n",
    "        while self.running:\n",
    "            clear_output(wait=True)\n",
    "            elapsed = self.elapsed()\n",
    "            display(f\"Elapsed time: {elapsed:.2f} seconds\")\n",
    "            time.sleep(0.1)\n",
    "\n",
    "    def start(self):\n",
    "        if not self.running:\n",
    "            self.start_time = time.time() - self.elapsed_time\n",
    "            self.running = True\n",
    "            self._timer_thread = threading.Thread(target=self._update_display)\n",
    "            self._timer_thread.start()\n",
    "            print(\"Stopwatch started.\")\n",
    "        else:\n",
    "            print(\"Stopwatch is already running.\")\n",
    "\n",
    "    def stop(self):\n",
    "        if self.running:\n",
    "            self.elapsed_time = time.time() - self.start_time\n",
    "            self.running = False\n",
    "            if self._timer_thread:\n",
    "                self._timer_thread.join()\n",
    "            print(\"Stopwatch stopped.\")\n",
    "        else:\n",
    "            print(\"Stopwatch is not running.\")\n",
    "\n",
    "    def reset(self):\n",
    "        self.start_time = None\n",
    "        self.elapsed_time = 0\n",
    "        self.running = False\n",
    "        if self._timer_thread:\n",
    "            self._timer_thread.join()\n",
    "        print(\"Stopwatch reset.\")\n",
    "\n",
    "    def elapsed(self):\n",
    "        if self.running:\n",
    "            return time.time() - self.start_time\n",
    "        return self.elapsed_time\n",
    "\n",
    "    def __str__(self):\n",
    "        return f\"Elapsed time: {self.elapsed():.2f} seconds\""
   ]
  },
  {
   "cell_type": "code",
   "execution_count": 11,
   "metadata": {},
   "outputs": [
    {
     "data": {
      "text/plain": [
       "'Elapsed time: 27.98 seconds'"
      ]
     },
     "metadata": {},
     "output_type": "display_data"
    }
   ],
   "source": [
    "stopwatch = Stopwatch()\n",
    "stopwatch.start()\n",
    "print(stopwatch)"
   ]
  },
  {
   "cell_type": "code",
   "execution_count": null,
   "metadata": {},
   "outputs": [],
   "source": [
    "# stopwatch.stop()"
   ]
  },
  {
   "cell_type": "code",
   "execution_count": null,
   "metadata": {},
   "outputs": [],
   "source": [
    "# stopwatch.reset()"
   ]
  },
  {
   "cell_type": "code",
   "execution_count": 10,
   "metadata": {},
   "outputs": [],
   "source": [
    "# stopwatch = Stopwatch()\n",
    "\n",
    "# while True:\n",
    "#     command = input(\"Enter command (start/stop/reset/elapsed/exit): \").strip().lower()\n",
    "#     if command == \"start\":\n",
    "#         stopwatch.start()\n",
    "#     elif command == \"stop\":\n",
    "#         stopwatch.stop()\n",
    "#     elif command == \"reset\":\n",
    "#         stopwatch.reset()\n",
    "#     elif command == \"elapsed\":\n",
    "#         print(stopwatch)\n",
    "#     elif command == \"exit\":\n",
    "#         break\n",
    "#     else:\n",
    "#         print(\"Unknown command. Please enter start, stop, reset, elapsed, or exit.\")\n"
   ]
  }
 ],
 "metadata": {
  "kernelspec": {
   "display_name": "dopo_venv",
   "language": "python",
   "name": "python3"
  },
  "language_info": {
   "codemirror_mode": {
    "name": "ipython",
    "version": 3
   },
   "file_extension": ".py",
   "mimetype": "text/x-python",
   "name": "python",
   "nbconvert_exporter": "python",
   "pygments_lexer": "ipython3",
   "version": "3.11.1"
  }
 },
 "nbformat": 4,
 "nbformat_minor": 2
}
